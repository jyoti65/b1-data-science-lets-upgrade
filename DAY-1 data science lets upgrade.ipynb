{
 "cells": [
  {
   "cell_type": "markdown",
   "metadata": {},
   "source": [
    "# Ques1:given the following jumbled word, OBANWRI guess the correct english word. \n",
    "A. RANIBOW \n",
    "B. RAINBOW \n",
    "C.BOWRANI \n",
    "D.ROBWANI"
   ]
  },
  {
   "cell_type": "code",
   "execution_count": 1,
   "metadata": {},
   "outputs": [
    {
     "name": "stdout",
     "output_type": "stream",
     "text": [
      "the correct word of OBANWRI\n",
      "enter the wordRAINBOW\n",
      "you guessed it right\n"
     ]
    }
   ],
   "source": [
    "print('the correct word of OBANWRI')\n",
    "Guessed_word = input(\"enter the word\")\n",
    "if Guessed_word == \"RAINBOW\":\n",
    "    print(\"you guessed it right\")\n",
    "else:\n",
    "    print('try again , You guesses it wrong')\n",
    "  "
   ]
  },
  {
   "cell_type": "markdown",
   "metadata": {},
   "source": [
    "# Question 2: write a program which prints\"LETS UPGRADE\""
   ]
  },
  {
   "cell_type": "code",
   "execution_count": 2,
   "metadata": {},
   "outputs": [
    {
     "data": {
      "text/plain": [
       "'LETS UPGRADE'"
      ]
     },
     "execution_count": 2,
     "metadata": {},
     "output_type": "execute_result"
    }
   ],
   "source": [
    "a=\"lets upgrade\"\n",
    "a.upper()"
   ]
  },
  {
   "cell_type": "markdown",
   "metadata": {},
   "source": [
    "# Question3: Write a program that takes cost price and selling price as input and display whether the transaction is a profit or a loss or neither."
   ]
  },
  {
   "cell_type": "code",
   "execution_count": 3,
   "metadata": {},
   "outputs": [
    {
     "name": "stdout",
     "output_type": "stream",
     "text": [
      "cost price: 50\n",
      "selling price :43\n",
      "loss\n"
     ]
    }
   ],
   "source": [
    "a=int(input(\"cost price: \"))\n",
    "b=int(input(\"selling price :\"))\n",
    "if(a>b):\n",
    "    print(\"loss\")\n",
    "elif(a<b):\n",
    "    print(\"profit\")\n",
    "else:\n",
    "    print(\"neither\")\n"
   ]
  },
  {
   "cell_type": "markdown",
   "metadata": {},
   "source": [
    "# Question4: write a program that takes an amount in euro as input. you need to finf its equivalent in euro and display it."
   ]
  },
  {
   "cell_type": "code",
   "execution_count": 4,
   "metadata": {},
   "outputs": [
    {
     "name": "stdout",
     "output_type": "stream",
     "text": [
      " 20\n",
      "1600\n"
     ]
    }
   ],
   "source": [
    "a=int(input(\" \"))\n",
    "indian_rupee=80*a\n",
    "print(indian_rupee)"
   ]
  },
  {
   "cell_type": "code",
   "execution_count": null,
   "metadata": {},
   "outputs": [],
   "source": []
  },
  {
   "cell_type": "code",
   "execution_count": null,
   "metadata": {},
   "outputs": [],
   "source": []
  }
 ],
 "metadata": {
  "kernelspec": {
   "display_name": "Python 3",
   "language": "python",
   "name": "python3"
  },
  "language_info": {
   "codemirror_mode": {
    "name": "ipython",
    "version": 3
   },
   "file_extension": ".py",
   "mimetype": "text/x-python",
   "name": "python",
   "nbconvert_exporter": "python",
   "pygments_lexer": "ipython3",
   "version": "3.7.4"
  }
 },
 "nbformat": 4,
 "nbformat_minor": 2
}
