{
 "cells": [
  {
   "cell_type": "markdown",
   "metadata": {},
   "source": [
    "# Ques1:given the following jumbled word, OBANWRI guess the correct english word. \n",
    "A. RANIBOW \n",
    "B. RAINBOW \n",
    "C.BOWRANI \n",
    "D.ROBWANI\n"
   ]
  },
  {
   "cell_type": "raw",
   "metadata": {},
   "source": [
    "ANSWER: B. RAINBOW"
   ]
  },
  {
   "cell_type": "markdown",
   "metadata": {},
   "source": [
    "# Question 2: write a program which prints\"LETS UPGRADE\""
   ]
  },
  {
   "cell_type": "code",
   "execution_count": 5,
   "metadata": {},
   "outputs": [
    {
     "data": {
      "text/plain": [
       "'LETS UPGRADE'"
      ]
     },
     "execution_count": 5,
     "metadata": {},
     "output_type": "execute_result"
    }
   ],
   "source": [
    "a=\"lets upgrade\"\n",
    "a.upper()"
   ]
  },
  {
   "cell_type": "markdown",
   "metadata": {},
   "source": [
    "# Question3: Write a program that takes cost price and selling price as input and display whether the transaction is a profit or a loss or neither."
   ]
  },
  {
   "cell_type": "code",
   "execution_count": 9,
   "metadata": {},
   "outputs": [
    {
     "name": "stdout",
     "output_type": "stream",
     "text": [
      "cost price: 50\n",
      "selling price :43\n",
      "loss\n"
     ]
    }
   ],
   "source": [
    "a=int(input(\"cost price: \"))\n",
    "b=int(input(\"selling price :\"))\n",
    "if(a>b):\n",
    "    print(\"loss\")\n",
    "elif(a<b):\n",
    "    print(\"profit\")\n",
    "else:\n",
    "    print(\"neither\")"
   ]
  },
  {
   "cell_type": "markdown",
   "metadata": {},
   "source": [
    "# Question4: write a program that takes an amount in euro as input. you need to finf its equivalent in euro and display it."
   ]
  },
  {
   "cell_type": "code",
   "execution_count": 2,
   "metadata": {},
   "outputs": [
    {
     "name": "stdout",
     "output_type": "stream",
     "text": [
      " 20\n",
      "1600\n"
     ]
    }
   ],
   "source": [
    "a=int(input(\" \"))\n",
    "indian_rupee=80*a\n",
    "print(indian_rupee)"
   ]
  }
 ],
 "metadata": {
  "kernelspec": {
   "display_name": "Python 3",
   "language": "python",
   "name": "python3"
  },
  "language_info": {
   "codemirror_mode": {
    "name": "ipython",
    "version": 3
   },
   "file_extension": ".py",
   "mimetype": "text/x-python",
   "name": "python",
   "nbconvert_exporter": "python",
   "pygments_lexer": "ipython3",
   "version": "3.7.4"
  }
 },
 "nbformat": 4,
 "nbformat_minor": 2
}
